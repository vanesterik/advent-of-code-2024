{
 "cells": [
  {
   "cell_type": "code",
   "execution_count": 1,
   "metadata": {},
   "outputs": [],
   "source": [
    "import polars as pl"
   ]
  },
  {
   "cell_type": "code",
   "execution_count": 2,
   "metadata": {},
   "outputs": [],
   "source": [
    "# Read processed data\n",
    "df = pl.read_csv(\"../data/processed/day-01.csv\")"
   ]
  },
  {
   "cell_type": "code",
   "execution_count": 3,
   "metadata": {},
   "outputs": [],
   "source": [
    "# Calculate the distance between the left and right columns\n",
    "df = df.with_columns((pl.col('left') - pl.col('right')).abs().alias('distance'))"
   ]
  },
  {
   "cell_type": "code",
   "execution_count": 4,
   "metadata": {},
   "outputs": [
    {
     "data": {
      "text/html": [
       "<div><style>\n",
       ".dataframe > thead > tr,\n",
       ".dataframe > tbody > tr {\n",
       "  text-align: right;\n",
       "  white-space: pre-wrap;\n",
       "}\n",
       "</style>\n",
       "<small>shape: (1, 1)</small><table border=\"1\" class=\"dataframe\"><thead><tr><th>distance</th></tr><tr><td>i64</td></tr></thead><tbody><tr><td>2756096</td></tr></tbody></table></div>"
      ],
      "text/plain": [
       "shape: (1, 1)\n",
       "┌──────────┐\n",
       "│ distance │\n",
       "│ ---      │\n",
       "│ i64      │\n",
       "╞══════════╡\n",
       "│ 2756096  │\n",
       "└──────────┘"
      ]
     },
     "execution_count": 4,
     "metadata": {},
     "output_type": "execute_result"
    }
   ],
   "source": [
    "# Calculate the sum of the distances\n",
    "df.select(pl.col('distance').sum())"
   ]
  },
  {
   "cell_type": "code",
   "execution_count": 5,
   "metadata": {},
   "outputs": [],
   "source": [
    "# Count occurrences in right column\n",
    "counts = df.group_by('right').agg(\n",
    "    pl.col('right').count().alias('frequency')\n",
    ")\n",
    "\n",
    "# Join the counts back to the original DataFrame\n",
    "df = df.select('*').join(\n",
    "    counts, \n",
    "    left_on='left', \n",
    "    right_on='right', \n",
    "    how='left'\n",
    ")\n",
    "\n",
    "# Fill null values with 0\n",
    "df = df.with_columns(pl.col('frequency').fill_null(0))\n",
    "\n",
    "# Calculate similarity score\n",
    "df = df.with_columns(\n",
    "    (pl.col('left') * pl.col('frequency')).alias('multiplication'),\n",
    ")"
   ]
  },
  {
   "cell_type": "code",
   "execution_count": 6,
   "metadata": {},
   "outputs": [
    {
     "data": {
      "text/html": [
       "<div><style>\n",
       ".dataframe > thead > tr,\n",
       ".dataframe > tbody > tr {\n",
       "  text-align: right;\n",
       "  white-space: pre-wrap;\n",
       "}\n",
       "</style>\n",
       "<small>shape: (1, 1)</small><table border=\"1\" class=\"dataframe\"><thead><tr><th>multiplication</th></tr><tr><td>i64</td></tr></thead><tbody><tr><td>23117829</td></tr></tbody></table></div>"
      ],
      "text/plain": [
       "shape: (1, 1)\n",
       "┌────────────────┐\n",
       "│ multiplication │\n",
       "│ ---            │\n",
       "│ i64            │\n",
       "╞════════════════╡\n",
       "│ 23117829       │\n",
       "└────────────────┘"
      ]
     },
     "execution_count": 6,
     "metadata": {},
     "output_type": "execute_result"
    }
   ],
   "source": [
    "# Calculate the sum of the similarity scores\n",
    "df.select(pl.col('multiplication').sum())"
   ]
  }
 ],
 "metadata": {
  "kernelspec": {
   "display_name": ".venv",
   "language": "python",
   "name": "python3"
  },
  "language_info": {
   "codemirror_mode": {
    "name": "ipython",
    "version": 3
   },
   "file_extension": ".py",
   "mimetype": "text/x-python",
   "name": "python",
   "nbconvert_exporter": "python",
   "pygments_lexer": "ipython3",
   "version": "3.11.5"
  }
 },
 "nbformat": 4,
 "nbformat_minor": 2
}
